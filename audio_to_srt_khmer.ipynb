{
  "nbformat": 4,
  "nbformat_minor": 0,
  "metadata": {
    "colab": {
      "provenance": [],
      "gpuType": "T4",
      "authorship_tag": "ABX9TyNUU2G+5G/iy+HlFLJkV5yz",
      "include_colab_link": true
    },
    "kernelspec": {
      "name": "python3",
      "display_name": "Python 3"
    },
    "language_info": {
      "name": "python"
    },
    "accelerator": "GPU"
  },
  "cells": [
    {
      "cell_type": "markdown",
      "metadata": {
        "id": "view-in-github",
        "colab_type": "text"
      },
      "source": [
        "<a href=\"https://colab.research.google.com/github/beysach/beysach/blob/main/audio_to_srt_khmer.ipynb\" target=\"_parent\"><img src=\"https://colab.research.google.com/assets/colab-badge.svg\" alt=\"Open In Colab\"/></a>"
      ]
    },
    {
      "cell_type": "code",
      "execution_count": null,
      "metadata": {
        "colab": {
          "base_uri": "https://localhost:8080/"
        },
        "id": "M0zGCuivqOGI",
        "outputId": "8d979b1b-6c0b-48cf-f54f-dc27d1d30c96"
      },
      "outputs": [
        {
          "output_type": "stream",
          "name": "stdout",
          "text": [
            "Collecting onnxruntime-gpu==1.17\n",
            "  Downloading onnxruntime_gpu-1.17.0-cp310-cp310-manylinux_2_28_x86_64.whl.metadata (4.2 kB)\n",
            "Collecting coloredlogs (from onnxruntime-gpu==1.17)\n",
            "  Downloading coloredlogs-15.0.1-py2.py3-none-any.whl.metadata (12 kB)\n",
            "Requirement already satisfied: flatbuffers in /usr/local/lib/python3.10/dist-packages (from onnxruntime-gpu==1.17) (24.3.25)\n",
            "Requirement already satisfied: numpy>=1.21.6 in /usr/local/lib/python3.10/dist-packages (from onnxruntime-gpu==1.17) (1.26.4)\n",
            "Requirement already satisfied: packaging in /usr/local/lib/python3.10/dist-packages (from onnxruntime-gpu==1.17) (24.1)\n",
            "Requirement already satisfied: protobuf in /usr/local/lib/python3.10/dist-packages (from onnxruntime-gpu==1.17) (3.20.3)\n",
            "Requirement already satisfied: sympy in /usr/local/lib/python3.10/dist-packages (from onnxruntime-gpu==1.17) (1.13.2)\n",
            "Collecting humanfriendly>=9.1 (from coloredlogs->onnxruntime-gpu==1.17)\n",
            "  Downloading humanfriendly-10.0-py2.py3-none-any.whl.metadata (9.2 kB)\n",
            "Requirement already satisfied: mpmath<1.4,>=1.1.0 in /usr/local/lib/python3.10/dist-packages (from sympy->onnxruntime-gpu==1.17) (1.3.0)\n",
            "Downloading onnxruntime_gpu-1.17.0-cp310-cp310-manylinux_2_28_x86_64.whl (192.1 MB)\n",
            "\u001b[2K   \u001b[90m━━━━━━━━━━━━━━━━━━━━━━━━━━━━━━━━━━━━━━━━\u001b[0m \u001b[32m192.1/192.1 MB\u001b[0m \u001b[31m5.3 MB/s\u001b[0m eta \u001b[36m0:00:00\u001b[0m\n",
            "\u001b[?25hDownloading coloredlogs-15.0.1-py2.py3-none-any.whl (46 kB)\n",
            "\u001b[2K   \u001b[90m━━━━━━━━━━━━━━━━━━━━━━━━━━━━━━━━━━━━━━━━\u001b[0m \u001b[32m46.0/46.0 kB\u001b[0m \u001b[31m1.4 MB/s\u001b[0m eta \u001b[36m0:00:00\u001b[0m\n",
            "\u001b[?25hDownloading humanfriendly-10.0-py2.py3-none-any.whl (86 kB)\n",
            "\u001b[2K   \u001b[90m━━━━━━━━━━━━━━━━━━━━━━━━━━━━━━━━━━━━━━━━\u001b[0m \u001b[32m86.8/86.8 kB\u001b[0m \u001b[31m6.2 MB/s\u001b[0m eta \u001b[36m0:00:00\u001b[0m\n",
            "\u001b[?25hInstalling collected packages: humanfriendly, coloredlogs, onnxruntime-gpu\n",
            "Successfully installed coloredlogs-15.0.1 humanfriendly-10.0 onnxruntime-gpu-1.17.0\n",
            "Collecting kfa\n",
            "  Downloading kfa-0.2.0-py3-none-any.whl.metadata (2.3 kB)\n",
            "Requirement already satisfied: chardet>=5.2.0 in /usr/local/lib/python3.10/dist-packages (from kfa) (5.2.0)\n",
            "Collecting onnxruntime>=1.16.0 (from kfa)\n",
            "  Downloading onnxruntime-1.19.0-cp310-cp310-manylinux_2_27_x86_64.manylinux_2_28_x86_64.whl.metadata (4.3 kB)\n",
            "Collecting sosap==0.0.1 (from kfa)\n",
            "  Downloading sosap-0.0.1.tar.gz (396 kB)\n",
            "\u001b[2K     \u001b[90m━━━━━━━━━━━━━━━━━━━━━━━━━━━━━━━━━━━━━━━━\u001b[0m \u001b[32m396.8/396.8 kB\u001b[0m \u001b[31m9.2 MB/s\u001b[0m eta \u001b[36m0:00:00\u001b[0m\n",
            "\u001b[?25h  Installing build dependencies ... \u001b[?25l\u001b[?25hdone\n",
            "  Getting requirements to build wheel ... \u001b[?25l\u001b[?25hdone\n",
            "  Installing backend dependencies ... \u001b[?25l\u001b[?25hdone\n",
            "  Preparing metadata (pyproject.toml) ... \u001b[?25l\u001b[?25hdone\n",
            "Requirement already satisfied: numpy>=1.24.4 in /usr/local/lib/python3.10/dist-packages (from kfa) (1.26.4)\n",
            "Collecting khmercut==0.0.2 (from kfa)\n",
            "  Downloading khmercut-0.0.2-py3-none-any.whl.metadata (2.2 kB)\n",
            "Requirement already satisfied: librosa>=0.10.1 in /usr/local/lib/python3.10/dist-packages (from kfa) (0.10.2.post1)\n",
            "Requirement already satisfied: requests>=2.31.0 in /usr/local/lib/python3.10/dist-packages (from kfa) (2.32.3)\n",
            "Collecting appdirs>=1.4.4 (from kfa)\n",
            "  Downloading appdirs-1.4.4-py2.py3-none-any.whl.metadata (9.0 kB)\n",
            "Collecting python-crfsuite==0.9.9 (from khmercut==0.0.2->kfa)\n",
            "  Downloading python_crfsuite-0.9.9-cp310-cp310-manylinux_2_17_x86_64.manylinux2014_x86_64.whl.metadata (4.3 kB)\n",
            "Collecting khmernormalizer==0.0.4 (from khmercut==0.0.2->kfa)\n",
            "  Downloading khmernormalizer-0.0.4-py3-none-any.whl.metadata (1.9 kB)\n",
            "Collecting tqdm==4.65.0 (from khmercut==0.0.2->kfa)\n",
            "  Downloading tqdm-4.65.0-py3-none-any.whl.metadata (56 kB)\n",
            "\u001b[2K     \u001b[90m━━━━━━━━━━━━━━━━━━━━━━━━━━━━━━━━━━━━━━━━\u001b[0m \u001b[32m57.0/57.0 kB\u001b[0m \u001b[31m3.3 MB/s\u001b[0m eta \u001b[36m0:00:00\u001b[0m\n",
            "\u001b[?25hRequirement already satisfied: regex in /usr/local/lib/python3.10/dist-packages (from khmernormalizer==0.0.4->khmercut==0.0.2->kfa) (2024.5.15)\n",
            "Collecting emoji==2.6.0 (from khmernormalizer==0.0.4->khmercut==0.0.2->kfa)\n",
            "  Downloading emoji-2.6.0.tar.gz (356 kB)\n",
            "\u001b[2K     \u001b[90m━━━━━━━━━━━━━━━━━━━━━━━━━━━━━━━━━━━━━━━━\u001b[0m \u001b[32m356.6/356.6 kB\u001b[0m \u001b[31m25.3 MB/s\u001b[0m eta \u001b[36m0:00:00\u001b[0m\n",
            "\u001b[?25h  Preparing metadata (setup.py) ... \u001b[?25l\u001b[?25hdone\n",
            "Collecting ftfy==6.1.1 (from khmernormalizer==0.0.4->khmercut==0.0.2->kfa)\n",
            "  Downloading ftfy-6.1.1-py3-none-any.whl.metadata (6.1 kB)\n",
            "Requirement already satisfied: wcwidth>=0.2.5 in /usr/local/lib/python3.10/dist-packages (from ftfy==6.1.1->khmernormalizer==0.0.4->khmercut==0.0.2->kfa) (0.2.13)\n",
            "Requirement already satisfied: audioread>=2.1.9 in /usr/local/lib/python3.10/dist-packages (from librosa>=0.10.1->kfa) (3.0.1)\n",
            "Requirement already satisfied: scipy>=1.2.0 in /usr/local/lib/python3.10/dist-packages (from librosa>=0.10.1->kfa) (1.13.1)\n",
            "Requirement already satisfied: scikit-learn>=0.20.0 in /usr/local/lib/python3.10/dist-packages (from librosa>=0.10.1->kfa) (1.3.2)\n",
            "Requirement already satisfied: joblib>=0.14 in /usr/local/lib/python3.10/dist-packages (from librosa>=0.10.1->kfa) (1.4.2)\n",
            "Requirement already satisfied: decorator>=4.3.0 in /usr/local/lib/python3.10/dist-packages (from librosa>=0.10.1->kfa) (4.4.2)\n",
            "Requirement already satisfied: numba>=0.51.0 in /usr/local/lib/python3.10/dist-packages (from librosa>=0.10.1->kfa) (0.60.0)\n",
            "Requirement already satisfied: soundfile>=0.12.1 in /usr/local/lib/python3.10/dist-packages (from librosa>=0.10.1->kfa) (0.12.1)\n",
            "Requirement already satisfied: pooch>=1.1 in /usr/local/lib/python3.10/dist-packages (from librosa>=0.10.1->kfa) (1.8.2)\n",
            "Requirement already satisfied: soxr>=0.3.2 in /usr/local/lib/python3.10/dist-packages (from librosa>=0.10.1->kfa) (0.4.0)\n",
            "Requirement already satisfied: typing-extensions>=4.1.1 in /usr/local/lib/python3.10/dist-packages (from librosa>=0.10.1->kfa) (4.12.2)\n",
            "Requirement already satisfied: lazy-loader>=0.1 in /usr/local/lib/python3.10/dist-packages (from librosa>=0.10.1->kfa) (0.4)\n",
            "Requirement already satisfied: msgpack>=1.0 in /usr/local/lib/python3.10/dist-packages (from librosa>=0.10.1->kfa) (1.0.8)\n",
            "Requirement already satisfied: coloredlogs in /usr/local/lib/python3.10/dist-packages (from onnxruntime>=1.16.0->kfa) (15.0.1)\n",
            "Requirement already satisfied: flatbuffers in /usr/local/lib/python3.10/dist-packages (from onnxruntime>=1.16.0->kfa) (24.3.25)\n",
            "Requirement already satisfied: packaging in /usr/local/lib/python3.10/dist-packages (from onnxruntime>=1.16.0->kfa) (24.1)\n",
            "Requirement already satisfied: protobuf in /usr/local/lib/python3.10/dist-packages (from onnxruntime>=1.16.0->kfa) (3.20.3)\n",
            "Requirement already satisfied: sympy in /usr/local/lib/python3.10/dist-packages (from onnxruntime>=1.16.0->kfa) (1.13.2)\n",
            "Requirement already satisfied: charset-normalizer<4,>=2 in /usr/local/lib/python3.10/dist-packages (from requests>=2.31.0->kfa) (3.3.2)\n",
            "Requirement already satisfied: idna<4,>=2.5 in /usr/local/lib/python3.10/dist-packages (from requests>=2.31.0->kfa) (3.7)\n",
            "Requirement already satisfied: urllib3<3,>=1.21.1 in /usr/local/lib/python3.10/dist-packages (from requests>=2.31.0->kfa) (2.0.7)\n",
            "Requirement already satisfied: certifi>=2017.4.17 in /usr/local/lib/python3.10/dist-packages (from requests>=2.31.0->kfa) (2024.7.4)\n",
            "Requirement already satisfied: llvmlite<0.44,>=0.43.0dev0 in /usr/local/lib/python3.10/dist-packages (from numba>=0.51.0->librosa>=0.10.1->kfa) (0.43.0)\n",
            "Requirement already satisfied: platformdirs>=2.5.0 in /usr/local/lib/python3.10/dist-packages (from pooch>=1.1->librosa>=0.10.1->kfa) (4.2.2)\n",
            "Requirement already satisfied: threadpoolctl>=2.0.0 in /usr/local/lib/python3.10/dist-packages (from scikit-learn>=0.20.0->librosa>=0.10.1->kfa) (3.5.0)\n",
            "Requirement already satisfied: cffi>=1.0 in /usr/local/lib/python3.10/dist-packages (from soundfile>=0.12.1->librosa>=0.10.1->kfa) (1.17.0)\n",
            "Requirement already satisfied: humanfriendly>=9.1 in /usr/local/lib/python3.10/dist-packages (from coloredlogs->onnxruntime>=1.16.0->kfa) (10.0)\n",
            "Requirement already satisfied: mpmath<1.4,>=1.1.0 in /usr/local/lib/python3.10/dist-packages (from sympy->onnxruntime>=1.16.0->kfa) (1.3.0)\n",
            "Requirement already satisfied: pycparser in /usr/local/lib/python3.10/dist-packages (from cffi>=1.0->soundfile>=0.12.1->librosa>=0.10.1->kfa) (2.22)\n",
            "Downloading kfa-0.2.0-py3-none-any.whl (10.9 MB)\n",
            "\u001b[2K   \u001b[90m━━━━━━━━━━━━━━━━━━━━━━━━━━━━━━━━━━━━━━━━\u001b[0m \u001b[32m10.9/10.9 MB\u001b[0m \u001b[31m8.4 MB/s\u001b[0m eta \u001b[36m0:00:00\u001b[0m\n",
            "\u001b[?25hDownloading khmercut-0.0.2-py3-none-any.whl (5.9 MB)\n",
            "\u001b[2K   \u001b[90m━━━━━━━━━━━━━━━━━━━━━━━━━━━━━━━━━━━━━━━━\u001b[0m \u001b[32m5.9/5.9 MB\u001b[0m \u001b[31m3.6 MB/s\u001b[0m eta \u001b[36m0:00:00\u001b[0m\n",
            "\u001b[?25hDownloading khmernormalizer-0.0.4-py3-none-any.whl (9.9 kB)\n",
            "Downloading python_crfsuite-0.9.9-cp310-cp310-manylinux_2_17_x86_64.manylinux2014_x86_64.whl (993 kB)\n",
            "\u001b[2K   \u001b[90m━━━━━━━━━━━━━━━━━━━━━━━━━━━━━━━━━━━━━━━━\u001b[0m \u001b[32m993.5/993.5 kB\u001b[0m \u001b[31m54.8 MB/s\u001b[0m eta \u001b[36m0:00:00\u001b[0m\n",
            "\u001b[?25hDownloading tqdm-4.65.0-py3-none-any.whl (77 kB)\n",
            "\u001b[2K   \u001b[90m━━━━━━━━━━━━━━━━━━━━━━━━━━━━━━━━━━━━━━━━\u001b[0m \u001b[32m77.1/77.1 kB\u001b[0m \u001b[31m6.7 MB/s\u001b[0m eta \u001b[36m0:00:00\u001b[0m\n",
            "\u001b[?25hDownloading ftfy-6.1.1-py3-none-any.whl (53 kB)\n",
            "\u001b[2K   \u001b[90m━━━━━━━━━━━━━━━━━━━━━━━━━━━━━━━━━━━━━━━━\u001b[0m \u001b[32m53.1/53.1 kB\u001b[0m \u001b[31m5.0 MB/s\u001b[0m eta \u001b[36m0:00:00\u001b[0m\n",
            "\u001b[?25hDownloading appdirs-1.4.4-py2.py3-none-any.whl (9.6 kB)\n",
            "Downloading onnxruntime-1.19.0-cp310-cp310-manylinux_2_27_x86_64.manylinux_2_28_x86_64.whl (13.2 MB)\n",
            "\u001b[2K   \u001b[90m━━━━━━━━━━━━━━━━━━━━━━━━━━━━━━━━━━━━━━━━\u001b[0m \u001b[32m13.2/13.2 MB\u001b[0m \u001b[31m94.4 MB/s\u001b[0m eta \u001b[36m0:00:00\u001b[0m\n",
            "\u001b[?25hBuilding wheels for collected packages: sosap, emoji\n",
            "  Building wheel for sosap (pyproject.toml) ... \u001b[?25l\u001b[?25hdone\n",
            "  Created wheel for sosap: filename=sosap-0.0.1-cp310-cp310-linux_x86_64.whl size=8643432 sha256=b696fa598dcc2fc069f3bf86faf904555fad016450b6bee72bd5778aeaf57b68\n",
            "  Stored in directory: /root/.cache/pip/wheels/c9/89/51/8e72d598b0c2d4839aa702f163fd713f59e25b9e6e0f45a00b\n",
            "  Building wheel for emoji (setup.py) ... \u001b[?25l\u001b[?25hdone\n",
            "  Created wheel for emoji: filename=emoji-2.6.0-py2.py3-none-any.whl size=351312 sha256=6cb5cd6de07e7a7fc168330677d66a50a13625326eea663fb3b191350b69b0c5\n",
            "  Stored in directory: /root/.cache/pip/wheels/ea/0b/64/114bc939d0083621aa41521e21be246c888260b8aa21e6c1ad\n",
            "Successfully built sosap emoji\n",
            "Installing collected packages: python-crfsuite, appdirs, tqdm, sosap, ftfy, emoji, onnxruntime, khmernormalizer, khmercut, kfa\n",
            "  Attempting uninstall: tqdm\n",
            "    Found existing installation: tqdm 4.66.5\n",
            "    Uninstalling tqdm-4.66.5:\n",
            "      Successfully uninstalled tqdm-4.66.5\n",
            "Successfully installed appdirs-1.4.4 emoji-2.6.0 ftfy-6.1.1 kfa-0.2.0 khmercut-0.0.2 khmernormalizer-0.0.4 onnxruntime-1.19.0 python-crfsuite-0.9.9 sosap-0.0.1 tqdm-4.65.0\n",
            "Collecting pydub\n",
            "  Downloading pydub-0.25.1-py2.py3-none-any.whl.metadata (1.4 kB)\n",
            "Collecting SpeechRecognition\n",
            "  Downloading SpeechRecognition-3.10.4-py2.py3-none-any.whl.metadata (28 kB)\n",
            "Requirement already satisfied: requests>=2.26.0 in /usr/local/lib/python3.10/dist-packages (from SpeechRecognition) (2.32.3)\n",
            "Requirement already satisfied: typing-extensions in /usr/local/lib/python3.10/dist-packages (from SpeechRecognition) (4.12.2)\n",
            "Requirement already satisfied: charset-normalizer<4,>=2 in /usr/local/lib/python3.10/dist-packages (from requests>=2.26.0->SpeechRecognition) (3.3.2)\n",
            "Requirement already satisfied: idna<4,>=2.5 in /usr/local/lib/python3.10/dist-packages (from requests>=2.26.0->SpeechRecognition) (3.7)\n",
            "Requirement already satisfied: urllib3<3,>=1.21.1 in /usr/local/lib/python3.10/dist-packages (from requests>=2.26.0->SpeechRecognition) (2.0.7)\n",
            "Requirement already satisfied: certifi>=2017.4.17 in /usr/local/lib/python3.10/dist-packages (from requests>=2.26.0->SpeechRecognition) (2024.7.4)\n",
            "Downloading pydub-0.25.1-py2.py3-none-any.whl (32 kB)\n",
            "Downloading SpeechRecognition-3.10.4-py2.py3-none-any.whl (32.8 MB)\n",
            "\u001b[2K   \u001b[90m━━━━━━━━━━━━━━━━━━━━━━━━━━━━━━━━━━━━━━━━\u001b[0m \u001b[32m32.8/32.8 MB\u001b[0m \u001b[31m17.5 MB/s\u001b[0m eta \u001b[36m0:00:00\u001b[0m\n",
            "\u001b[?25hInstalling collected packages: pydub, SpeechRecognition\n",
            "Successfully installed SpeechRecognition-3.10.4 pydub-0.25.1\n"
          ]
        }
      ],
      "source": [
        "!pip install onnxruntime-gpu==1.17\n",
        "!pip install kfa\n",
        "!pip install pydub SpeechRecognition\n"
      ]
    },
    {
      "cell_type": "code",
      "source": [
        "import speech_recognition as sr\n",
        "\n",
        "# Function to transcribe audio file\n",
        "def transcribe_audio(input_audio_file):\n",
        "    recognizer = sr.Recognizer()\n",
        "\n",
        "    # Load audio file\n",
        "    with sr.AudioFile(input_audio_file) as source:\n",
        "        audio_data = recognizer.record(source)\n",
        "\n",
        "    # Transcribe audio\n",
        "    try:\n",
        "        text = recognizer.recognize_google(audio_data,  language=\"km-KH\")\n",
        "        # text = recognizer.recognize_google(audio_data)\n",
        "        print(text)\n",
        "        return text\n",
        "    except sr.UnknownValueError:\n",
        "        return \"Speech recognition could not understand audio\"\n",
        "    except sr.RequestError as e:\n",
        "        return f\"Could not request results from Google Speech Recognition service; {e}\"\n",
        "\n",
        "\n",
        "transcribe_data = \"\"\n",
        "# Main function\n",
        "def transcribe_audio_to_text(input_audio_file, output_file):\n",
        "    transcribed_text = transcribe_audio(input_audio_file)\n",
        "    transcribe_data = transcribed_text\n",
        "\n",
        "    if transcribed_text:\n",
        "        with open(output_file, \"w\", encoding=\"utf-8\") as f:\n",
        "          f.write(transcribed_text)\n",
        "    else:\n",
        "        print(\"Transcription failed.\")\n",
        "\n",
        "\n",
        "transcribe_audio_to_text(\"/content/audio.wav\",\"transcribed_output.txt\")\n",
        "\n"
      ],
      "metadata": {
        "colab": {
          "base_uri": "https://localhost:8080/"
        },
        "id": "iCevJj8rs4mY",
        "outputId": "d229e6d0-e7fa-4006-f621-37c2d07b9ec4"
      },
      "execution_count": null,
      "outputs": [
        {
          "output_type": "stream",
          "name": "stdout",
          "text": [
            "ខ្ញុំសាកល្បងធ្វើខ្មែរសត្វថៃថ៍ខ្លួនឯងដែលប្រើប្រាស់នៅតែជារបស់កូនខ្មែរបាទបោះកូនខ្មែរមែនគឺយើងប្រើ kfa ដែលបង្កើតដោយ\n"
          ]
        }
      ]
    },
    {
      "cell_type": "code",
      "source": [
        "import onnxruntime as rt\n",
        "rt.get_device()\n",
        "\n",
        "\n"
      ],
      "metadata": {
        "colab": {
          "base_uri": "https://localhost:8080/",
          "height": 35
        },
        "id": "k3SjNkMEr6w5",
        "outputId": "838909e2-cb26-4737-9b39-7b2e7278dee8"
      },
      "execution_count": null,
      "outputs": [
        {
          "output_type": "execute_result",
          "data": {
            "text/plain": [
              "'CPU'"
            ],
            "application/vnd.google.colaboratory.intrinsic+json": {
              "type": "string"
            }
          },
          "metadata": {},
          "execution_count": 4
        }
      ]
    },
    {
      "cell_type": "code",
      "source": [
        "import torch\n",
        "from kfa import align, create_session\n",
        "import librosa\n",
        "\n",
        "with open(\"/content/transcribed_output.txt\") as infile:\n",
        "    text = infile.read()\n",
        "\n",
        "y, sr = librosa.load(\"/content/audio.wav\", sr=16000, mono=True)\n",
        "session = create_session(providers=[\"CUDAExecutionProvider\"])\n",
        "segments = []\n",
        "for alignment in align(y, sr, text, session=session):\n",
        "  print(alignment)\n",
        "  segments.append(alignment)\n",
        "\n",
        "def generate_srt_from_tuples(tuples, output_srt_file):\n",
        "    with open(output_srt_file, \"w\", encoding=\"utf-8\") as f:\n",
        "        for idx, tup in enumerate(tuples, start=1):\n",
        "            start_time = format_time(tup[1] * 1000)  # Convert seconds to milliseconds\n",
        "            end_time = format_time(tup[2] * 1000)  # Convert seconds to milliseconds\n",
        "            text = tup[0]\n",
        "            f.write(f\"{idx}\\n\")\n",
        "            f.write(f\"{start_time} --> {end_time}\\n\")\n",
        "            f.write(f\"{text}\\n\\n\")\n",
        "\n",
        "def format_time(milliseconds):\n",
        "    seconds = milliseconds / 1000\n",
        "    minutes = seconds / 60\n",
        "    hours = minutes / 60\n",
        "    return f\"{int(hours):02d}:{int(minutes)%60:02d}:{int(seconds)%60:02d},{int(milliseconds)%1000:03d}\"\n",
        "\n",
        "generate_srt_from_tuples(segments, 'test.srt')"
      ],
      "metadata": {
        "colab": {
          "base_uri": "https://localhost:8080/"
        },
        "id": "AYBCXYigqTnA",
        "outputId": "8e27143c-04db-4b2c-eda9-5e6a17259f38"
      },
      "execution_count": null,
      "outputs": [
        {
          "output_type": "stream",
          "name": "stderr",
          "text": [
            "/root/.cache/kfa/wav2vec2-km-base-1500.onnx.tmp: 100%|██████████| 360M/360M [00:21<00:00, 18.0MiB/s]\n",
            "/usr/local/lib/python3.10/dist-packages/onnxruntime/capi/onnxruntime_inference_collection.py:69: UserWarning: Specified provider 'CUDAExecutionProvider' is not in available provider names.Available providers: 'AzureExecutionProvider, CPUExecutionProvider'\n",
            "  warnings.warn(\n",
            "100%|██████████| 1/1 [00:02<00:00,  2.10s/it]"
          ]
        },
        {
          "output_type": "stream",
          "name": "stdout",
          "text": [
            "('ខ្ញុំ', 0, 0.2204675, 0.0200425, 0.16034, 0.5682877719622671)\n",
            "('សាកល្បង', 0.2204675, 0.7415725, 0.2204675, 0.7014875, 0.7521439039458832)\n",
            "('ធ្វើ', 0.7415725, 1.2225925, 0.7415725, 1.1424225000000001, 0.6560929918428883)\n",
            "('ខ្មែរ', 1.2225925, 1.7436975, 1.2225925, 1.723655, 0.7872157087735832)\n",
            "('Subtitle', 1.7436975, 2.4051, 1.7436975, 2.365015, 0.659711366710854)\n",
            "('ខ្លួន', 2.4051, 2.5854825, 2.4051, 2.5253550000000002, 0.5076594140233889)\n",
            "('ឯង', 2.5854825, 2.8259925, 2.5854825, 2.7658650000000002, 0.7101422395143244)\n",
            "('ដែល', 2.8259925, 2.96629, 2.8259925, 2.9462475, 0.6474638506770134)\n",
            "('ប្រើប្រាស់', 2.96629, 3.6276925, 2.96629, 3.5876075000000003, 0.6522938221122229)\n",
            "('នៅ', 3.6276925, 3.76799, 3.6276925, 3.7479475000000004, 0.5526270043725768)\n",
            "('បច្ចេកវិទ្យា', 3.76799, 4.3492225, 3.76799, 4.32918, 0.5205945931881745)\n",
            "('របស់', 4.3492225, 4.5696900000000005, 4.3492225, 4.5496475, 0.4698001851727895)\n",
            "('កូន', 4.5696900000000005, 4.8502849999999995, 4.5696900000000005, 4.7901575, 0.4671935043244792)\n",
            "('ខ្មែរ', 4.8502849999999995, 5.37139, 4.8502849999999995, 5.29122, 0.7901882643504492)\n",
            "('បាទ', 5.37139, 5.8123249999999995, 5.37139, 5.6119, 0.7806866045575589)\n",
            "('បោះ', 5.8123249999999995, 5.93258, 5.8123249999999995, 5.9125375, 0.6360265338327735)\n",
            "('កូន', 5.93258, 6.09292, 5.93258, 6.072877500000001, 0.3954393911725284)\n",
            "('ខ្មែរ', 6.09292, 6.373515, 6.09292, 6.33343, 0.7664094814875474)\n",
            "('មែន', 6.373515, 6.65411, 6.373515, 6.57394, 0.6930826042429544)\n",
            "('គឺ', 6.65411, 6.89462, 6.65411, 6.854535, 0.6727563362568617)\n",
            "('យើង', 6.89462, 7.05496, 6.89462, 7.014875, 0.5675520611306032)\n",
            "('ប្រើ ', 7.05496, 7.61615, 7.05496, 7.576065000000001, 0.7300795900339906)\n",
            "('kfa ', 7.61615, 8.1973825, 7.61615, 8.177340000000001, 0.42731331209870405)\n",
            "('ដែល', 8.1973825, 8.49802, 8.1973825, 8.477977500000001, 0.6382715630544615)\n",
            "('បង្កើត', 8.49802, 8.958997499999999, 8.49802, 8.8788275, 0.5609808135838983)\n",
            "('ដោយ', 8.958997499999999, 9.2796775, 8.958997499999999, 9.2796775, 0.7478722750674933)\n"
          ]
        },
        {
          "output_type": "stream",
          "name": "stderr",
          "text": [
            "\n"
          ]
        }
      ]
    }
  ]
}